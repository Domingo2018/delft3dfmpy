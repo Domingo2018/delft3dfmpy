{
 "cells": [
  {
   "cell_type": "markdown",
   "metadata": {},
   "source": [
    "To enable complete execution of this notebook, point these paths to the correct locations on your computer:"
   ]
  },
  {
   "cell_type": "code",
   "execution_count": null,
   "metadata": {
    "tags": []
   },
   "outputs": [],
   "source": [
    "# path to the package containing the dummy-data\n",
    "import os\n",
    "data_path = os.path.abspath('../data')\n",
    "\n",
    "# path to dflowfm for refining the mesh \n",
    "dflowfm_path = os.path.abspath('../')\n",
    "\n",
    "# path to write the models\n",
    "output_path = os.path.abspath('.')\n",
    "\n",
    "# path to DIMR for a correct run.bat file\n",
    "dimr_path = r'<PUT YOUR PATH TO DIMR HERE>\\x64\\dimr\\scripts\\run_dimr.bat'"
   ]
  },
  {
   "cell_type": "markdown",
   "metadata": {},
   "source": [
    "## Load Python libraries"
   ]
  },
  {
   "cell_type": "code",
   "execution_count": null,
   "metadata": {
    "tags": []
   },
   "outputs": [],
   "source": [
    "# Basis\n",
    "\n",
    "import sys\n",
    "import shutil\n",
    "import numpy as np\n",
    "\n",
    "sys.path.append('../')       \n",
    "# Importing relevant classes from delft3dfmpy\n",
    "from delft3dfmpy import DFlowFMModel, HyDAMO, Rectangular, DFlowFMWriter\n",
    "from delft3dfmpy import DFlowRRModel, DFlowRRWriter\n",
    "from delft3dfmpy.datamodels.common import ExtendedGeoDataFrame\n",
    "\n",
    "# For reading SOBEK results as boundary conditions\n",
    "# hkvsobekpy requires the modules fire and tqdm, install these (conda install fire tqdm)\n",
    "import hkvsobekpy\n",
    "\n",
    "# shapefiles IO\n",
    "import geopandas as gpd\n",
    "\n",
    "# Import csv\n",
    "import pandas as pd\n",
    "\n",
    "# Geometries\n",
    "from shapely.geometry import Polygon, LineString, Point\n",
    "\n",
    "# Plotting\n",
    "import matplotlib.pyplot as plt\n",
    "from matplotlib.collections import LineCollection\n",
    "\n",
    "%matplotlib inline"
   ]
  },
  {
   "cell_type": "markdown",
   "metadata": {},
   "source": [
    "## Recreate the 1D/2D model"
   ]
  },
  {
   "cell_type": "markdown",
   "metadata": {},
   "source": [
    "Hide by clicking on the blue sidebar"
   ]
  },
  {
   "cell_type": "code",
   "execution_count": null,
   "metadata": {
    "tags": [
     "hide-cell"
    ]
   },
   "outputs": [],
   "source": [
    "# read data from HyDAMO database\n",
    "hydamo = HyDAMO(extent_file=os.path.join(data_path,'gis/selectie_pilot.shp'))\n",
    "hydamo.branches.read_gml(os.path.join(data_path,'gml/hydroobject.gml'), index_col='code', clip=hydamo.clipgeo)\n",
    "hydamo.branches['ruwheidstypecode'] = 4\n",
    "hydamo.crosssections.read_gml(os.path.join(data_path,'gml/dwarsprofiel.gml') , \n",
    "                              column_mapping={'ruwheidswaardelaag':'ruwheidswaarde'} ,\n",
    "                              index_col='profielcode' ,\n",
    "                              groupby_column='profielcode' , \n",
    "                              order_column='codevolgnummer')\n",
    "hydamo.crosssections.snap_to_branch(hydamo.branches, snap_method='intersecting')\n",
    "hydamo.crosssections.dropna(axis=0, inplace=True, subset=['branch_offset'])\n",
    "hydamo.crosssections.drop('code', axis=1, inplace=True)\n",
    "hydamo.crosssections.rename(columns={'profielcode': 'code'}, inplace=True)\n",
    "hydamo.parametrised_profiles.read_gml(os.path.join(data_path,'gml/NormGeparametriseerdProfiel.gml'), column_mapping={'ruwheidswaardelaag': 'ruwheidswaarde'})\n",
    "hydamo.parametrised_profiles.snap_to_branch(hydamo.branches, snap_method='intersecting')\n",
    "hydamo.parametrised_profiles.dropna(axis=0, inplace=True, subset=['branch_offset'])\n",
    "hydamo.bridges.read_gml(os.path.join(data_path,'gml/brug.gml'))\n",
    "hydamo.bridges.snap_to_branch(hydamo.branches, snap_method='overal', maxdist=5)\n",
    "hydamo.bridges.dropna(axis=0, inplace=True, subset=['branch_offset'])\n",
    "hydamo.culverts.read_gml( os.path.join(data_path,'gml/duikersifonhevel.gml'),  index_col='code',  column_mapping={'vormkoker': 'vormcode'},  clip=hydamo.clipgeo)\n",
    "hydamo.culverts.snap_to_branch(hydamo.branches, snap_method='ends', maxdist=5)\n",
    "hydamo.culverts.dropna(axis=0, inplace=True, subset=['branch_offset'])\n",
    "duikers_rekentijd = ['RS372-KDU3','RS375-KDU2','RS373-KDU7','RS373-KDU20','RS373-KDU22','RS373-KDU19']\n",
    "duikers_gemalen = ['OWL32921-KDU3','RS375-KDU6']             \n",
    "hydamo.culverts.drop(duikers_rekentijd, axis=0, inplace=True)\n",
    "hydamo.culverts.drop(duikers_gemalen, axis=0, inplace=True)\n",
    "hydamo.weirs.read_gml(os.path.join(data_path,'gml/stuw.gml'))\n",
    "hydamo.weirs.snap_to_branch(hydamo.branches, snap_method='overal', maxdist=10)\n",
    "hydamo.weirs.dropna(axis=0, inplace=True, subset=['branch_offset'])\n",
    "hydamo.orifices.read_gml(os.path.join(data_path,'gml/onderspuier.gml'))\n",
    "hydamo.orifices.snap_to_branch(hydamo.branches, snap_method='overal', maxdist=2)\n",
    "hydamo.orifices.dropna(axis=0, inplace=True, subset=['branch_offset'])\n",
    "hydamo.afsluitmiddel.read_gml(os.path.join(data_path,'gml/afsluitmiddel.gml'), index_col='code')\n",
    "hydamo.laterals.snap_to_branch(hydamo.branches, snap_method='overal', maxdist=  500)\n",
    "hydamo.laterals.dropna(axis=0, inplace=True, subset=['branch_offset'])\n",
    "hydamo.gemalen.read_gml(os.path.join(data_path,'gml/gemaal.gml'), index_col='code', clip=hydamo.clipgeo)\n",
    "hydamo.pumps.read_gml(os.path.join(data_path,'gml/pomp.gml'), index_col='code', clip=hydamo.clipgeo)\n",
    "hydamo.pumps.snap_to_branch(hydamo.branches, snap_method='overal', maxdist=5)\n",
    "hydamo.pumps['maximalecapaciteit'] *= 60\n",
    "hydamo.sturing.read_gml(os.path.join(data_path,'gml/sturing.gml'), index_col='code')\n",
    "\n",
    "# initialize 1D DflowFMModel-object\n",
    "dfmmodel = DFlowFMModel()\n",
    "dfmmodel.structures.io.weirs_from_hydamo(hydamo.weirs, yz_profiles=hydamo.crosssections, parametrised_profiles=hydamo.parametrised_profiles)\n",
    "dfmmodel.structures.io.culverts_from_hydamo(hydamo.culverts, hydamo.afsluitmiddel)\n",
    "dfmmodel.structures.io.bridges_from_hydamo(hydamo.bridges, yz_profiles=hydamo.crosssections, parametrised_profiles=hydamo.parametrised_profiles)\n",
    "dfmmodel.structures.io.orifices_from_hydamo(hydamo.orifices)\n",
    "dfmmodel.structures.io.pumps_from_hydamo(pompen=hydamo.pumps, sturing=hydamo.sturing, gemalen=hydamo.gemalen)\n",
    "dfmmodel.network.set_branches(hydamo.branches)\n",
    "dfmmodel.network.generate_1dnetwork(one_d_mesh_distance=40.0, seperate_structures=True)\n",
    "dfmmodel.crosssections.io.from_hydamo(dwarsprofielen=hydamo.crosssections,parametrised=hydamo.parametrised_profiles, branches=hydamo.branches)\n",
    "default = dfmmodel.crosssections.add_rectangle_definition(\n",
    "    height=5.0, width=5.0, closed=False, roughnesstype='Strickler', roughnessvalue=30)\n",
    "dfmmodel.crosssections.set_default_definition(definition=default, shift=8.0)\n",
    "# initialize 2D-grid\n",
    "mesh = Rectangular()\n",
    "mesh.generate_within_polygon(hydamo.clipgeo, cellsize=25, rotation=0)\n",
    "# optional:refine\n",
    "#buffered_branch = hydamo.branches.loc[['riv_RS1_1810', 'riv_RS1_264'], 'geometry'].unary_union.buffer(10)\n",
    "#mesh.refine(polygon=[buffered_branch], level=[2], cellsize=cellsize, dflowfm_path=dflowfm_path)\n",
    "# rasterpath = os.path.join(data_path,'rasters/dommel_25m.tif')\n",
    "# mesh.altitude_from_raster(rasterpath)\n",
    "mesh.altitude_constant(15.0)\n",
    "dfmmodel.network.add_mesh2d(mesh)\n",
    "del dfmmodel.network.links1d2d.faces2d[:]\n",
    "del dfmmodel.network.links1d2d.nodes1d[:]\n",
    "dfmmodel.network.links1d2d.generate_1d_to_2d(max_distance=50)\n",
    "dfmmodel.network.links1d2d.generate_2d_to_1d(max_distance=50, intersecting=False)\n",
    "# boundary and initial conditions\n",
    "bcs = pd.read_csv(os.path.join(data_path,'sobekdata/boundaryconditions.csv'), sep=';', index_col=0)\n",
    "bcs.index = pd.to_datetime(bcs.index)\n",
    "dfmmodel.external_forcings.add_boundary_condition(  name='BC_flow_in', pt=(140712.056047, 391893.277878),  bctype='discharge',  series=bcs['Discharge'])\n",
    "dfmmodel.external_forcings.add_boundary_condition( name='BC_wlev_down',  pt=(141133.788766, 395441.748424),  bctype='waterlevel', series=bcs['Waterlevel'])\n",
    "dfmmodel.external_forcings.set_initial_waterdepth(0.5)\n",
    "init_special = gpd.read_file(os.path.join(data_path,'GIS','init_waterlevel_special.shp'))\n",
    "dfmmodel.external_forcings.set_initial_waterlevel(10.0, polygon=init_special.geometry[0], name='test_polygon', locationtype='2d')\n",
    "# laterals for non-coupled areas\n",
    "rehis = hkvsobekpy.read_his.ReadMetadata(os.path.join(data_path,'sobekdata/QLAT.HIS'), hia_file='auto')\n",
    "param = [p for p in rehis.GetParameters() if 'disch' in p][0]\n",
    "lateral_discharge = rehis.DataFrame().loc[:, param]\n",
    "lateral_discharge.drop('lat_986', inplace=True, axis=1)\n",
    "# obserations points\n",
    "dfmmodel.observation_points.add_points([Point((141150, 393700)),(141155, 393705),Point((145155, 394705)),(145150, 394700)],['ObsPt1','ObsPt2','ObsPt2D1','ObsPt2D2'], locationTypes=['1d','1d','2d','2d'])"
   ]
  },
  {
   "cell_type": "markdown",
   "metadata": {},
   "source": [
    "## Add laterals"
   ]
  },
  {
   "cell_type": "markdown",
   "metadata": {},
   "source": [
    "Temporarily, in the current version of the GUI, the setup op laterals needed to be changed. Every RR-node can be connected to one lateral only and needs to have the same name (with suffix \"_boundary\"). In the current main version of D-Hydamo, every catchment gets one lateral to which all RR-nodes within that catchment are connected.\n",
    "\n",
    "Therefore, we created to sets of laterals, depending on the configuration of the paved nodes:\n",
    "1) laterals_simple.shp: every catchment has one paved node, if there is paved area within the catchment \n",
    "2) laterals_complex.shp: overflows get additional paved nodes (and boundaries)."
   ]
  },
  {
   "cell_type": "code",
   "execution_count": null,
   "metadata": {},
   "outputs": [],
   "source": [
    "# hydamo.laterals.read_shp(os.path.join(data_path,'sobekdata','laterals','laterals_complex.shp'), \n",
    "#                           column_mapping={'ID': 'code', \n",
    "#                                           'X':'X',\n",
    "#                                           'Y':'Y'}, index_col='code')\n",
    "# hydamo.laterals.snap_to_branch(hydamo.branches, snap_method='overal', maxdist=  2500)\n",
    "# for correct processing of the ID's, the overflows are dropped from this shapefile\n",
    "# hydamo.laterals.drop(['pav_os_101_boundary','pav_os_102_boundary','pav_os_103_boundary','pav_os_104_boundary','pav_os_105_boundary'], axis=0, inplace=True)\n",
    "\n",
    "hydamo.laterals.read_shp(os.path.join(data_path,'sobekdata','laterals','laterals_simple.shp'), \n",
    "                          column_mapping={'ID': 'code', \n",
    "                                          'X':'X',\n",
    "                                          'Y':'Y'}, index_col='code')\n",
    "hydamo.laterals.snap_to_branch(hydamo.branches, snap_method='overal', maxdist=  2500)"
   ]
  },
  {
   "cell_type": "markdown",
   "metadata": {},
   "source": [
    "## Generate the RR-model"
   ]
  },
  {
   "cell_type": "markdown",
   "metadata": {},
   "source": [
    "Catchments are provided as HyDAMO files and are read similarly as the FM files are. They can be GML or shape files. Note that in case of shapefiles column mapping is necessary because the column names are truncated. Required columns include 'code' as the ID and 'lateraleknoopcode' as the associated FM boundary node ID. \n",
    "\n",
    "Note that when catchments have a \"MultiPolygon' geometry, the multipolygons are 'exploded' into single polygon geometries. A warning of this is isued, and a suffix is added to every polygons ID to prevent duplicates. This is the case for both GML and SHP input.\n",
    "\n",
    "For every catchment, the land use areas will be calculated and if appopriate a maximum of four RR-nodes will be created per catchment:\n",
    " - unpaved (based on the Ernst concept)\n",
    " - paved \n",
    " - greenhouse\n",
    " - open water (not the full Sobek2 open water, but only used to transfer (net) precipitation that falls on open water that is schematized in RR to the 1D/2D network.\n",
    " \n",
    "At the moment, two options exist for the schematisation of the paved area:\n",
    " 1) simple: the paved fraction of each catchment is modelled with a paved node, directly connected to catchments' boundary node\n",
    " <br>\n",
    " 2) more complex: serer area polygons and overflow points are used a input as well. For each sewer area, the paved areas in the intersecting catchments are summed. This total area is then distributed over the overflows that are associated with the sewerarea (the column 'lateraleknoopcode') using the area fraction (column 'fractie') for each overflow. In each cathment, paved area that does not intersect with a sewer area gets an unpaved node as in option (1)."
   ]
  },
  {
   "cell_type": "code",
   "execution_count": null,
   "metadata": {},
   "outputs": [],
   "source": [
    "# RR-catchments\n",
    "hydamo.catchments.read_shp(os.path.join(data_path,'gml/afvoergebied_2.shp'), index_col='code', \n",
    "                           clip=None, column_mapping={'lateralekn' : 'lateraleknoopcode', 'administra':'administratiefgebied'})"
   ]
  },
  {
   "cell_type": "markdown",
   "metadata": {},
   "source": [
    "Optionally, read also sewer areas and overflow locations. If sewer-areas are used, there must also be overflows and vice versa."
   ]
  },
  {
   "cell_type": "code",
   "execution_count": null,
   "metadata": {},
   "outputs": [],
   "source": [
    "hydamo.sewer_areas.read_shp(os.path.join(data_path,'gml/rioleringsgebieden.shp'), index_col='code',clip=None, check_geotype=False)\n",
    "\n",
    "hydamo.overflows.read_shp(os.path.join(data_path,'gml/overstorten.shp'), index_col='code', clip=None,           column_mapping={'codegerel':'codegerelateerdobject', 'Naam':'name' })\n",
    "# snap the overflows to 1D branches\n",
    "hydamo.overflows.snap_to_branch(hydamo.branches, snap_method='overal', maxdist= 5)\n"
   ]
  },
  {
   "cell_type": "markdown",
   "metadata": {},
   "source": [
    "Other input data for RR can be fed by rasters (from which zonal statistics will be extracted) or spatially uniform default values. Three rasters are required: land use, soil type and surface elevation. For each land use type, the area within each catchment is calculated. Surface level is calculated as the median within the catchment, and the most-occurring soil type is used. In all rasters, a NODATA-value of -999 should be used."
   ]
  },
  {
   "cell_type": "markdown",
   "metadata": {},
   "source": [
    "#### Boundary nodes"
   ]
  },
  {
   "cell_type": "markdown",
   "metadata": {},
   "source": [
    "Boundary nodes are assumed to be also included in the FM-model. For every catchment, the boundary identified by 'lateraleknoopocode' in the catchment definitition, is assumed to exist in the laterals. The coordinates are included in the topology of the model as follows:"
   ]
  },
  {
   "cell_type": "markdown",
   "metadata": {},
   "source": [
    "An RR-model must first be initialized:"
   ]
  },
  {
   "cell_type": "code",
   "execution_count": null,
   "metadata": {},
   "outputs": [],
   "source": [
    "drrmodel = DFlowRRModel()"
   ]
  },
  {
   "cell_type": "markdown",
   "metadata": {},
   "source": [
    "And the necessary (i.e. the one with a catchment associated to them) lateral nodes are also load into the RR model. Overflows are optional and can be left out."
   ]
  },
  {
   "cell_type": "code",
   "execution_count": null,
   "metadata": {},
   "outputs": [],
   "source": [
    "drrmodel.external_forcings.io.boundary_from_input(hydamo.laterals, hydamo.catchments)#, overflows=hydamo.overflows)"
   ]
  },
  {
   "cell_type": "markdown",
   "metadata": {},
   "source": [
    "Water levels can be read from 1D lateral nodes. To test: if this is the case observation points are no longer necessary."
   ]
  },
  {
   "cell_type": "markdown",
   "metadata": {},
   "source": [
    "Coupling between RR and FM must be online (parallel), not sequential. RR reades waterlevels from FM laterals and FM gets discharges from lateral nodes of discharge type 'realtime'. In the call to the function, the overflow locations are appended to the regular lateral locations. For lateral nodes for which no rr_boundary (catchment or overflow) exists, a time series from lateral_discharge is used."
   ]
  },
  {
   "cell_type": "code",
   "execution_count": null,
   "metadata": {},
   "outputs": [],
   "source": [
    "#dfmmodel.external_forcings.io.read_laterals(hydamo.laterals.append(hydamo.overflows), lateral_discharges=lateral_discharge, rr_boundaries=drrmodel.external_forcings.boundary_nodes)\n",
    "dfmmodel.external_forcings.io.read_laterals(hydamo.laterals, lateral_discharges=lateral_discharge, rr_boundaries=drrmodel.external_forcings.boundary_nodes)"
   ]
  },
  {
   "cell_type": "markdown",
   "metadata": {},
   "source": [
    "#### Unpaved nodes"
   ]
  },
  {
   "cell_type": "markdown",
   "metadata": {},
   "source": [
    "The coding for the land use types needs to be as follows:<br>\n",
    " 1 potatoes  <br>\n",
    " 2 wheat<br>\n",
    " 3 sugar beet<br> \n",
    " 4 corn       <br> \n",
    " 5 other crops <br> \n",
    " 6 bulbous plants<br> \n",
    " 7 orchard<br>\n",
    " 8 grass  <br>\n",
    " 9 deciduous forest  <br>\n",
    "10 coniferous forest<br>\n",
    "11 nature<br>\n",
    "12 barren<br>\n",
    "13 open water<br>\n",
    "14 built-up<br>\n",
    "15 greenhouses<br>\n",
    "\n",
    "For classes 1-12, the areas are calculated from the provided raster and remapped to the classification in the Sobek RR-tables.\n",
    "\n",
    "\n",
    "The coding for the soil types:<br>\n",
    "1 'Veengrond met veraarde bovengrond'<br>\n",
    " 2 'Veengrond met veraarde bovengrond, zand'<br>\n",
    " 3 'Veengrond met kleidek'<br>\n",
    " 4 'Veengrond met kleidek op zand'<br>\n",
    " 5 'Veengrond met zanddek op zand'<br>\n",
    " 6 'Veengrond op ongerijpte klei'<br>\n",
    " 7 'Stuifzand'<br>\n",
    " 8 'Podzol (Leemarm, fijn zand)'<br>\n",
    " 9 'Podzol (zwak lemig, fijn zand)'<br>\n",
    "10 'Podzol (zwak lemig, fijn zand op grof zand)'<br>\n",
    "11 'Podzol (lemig keileem)'<br>\n",
    "12 'Enkeerd (zwak lemig, fijn zand)'<br>\n",
    "13 'Beekeerd (lemig fijn zand)'<br>\n",
    "14 'Podzol (grof zand)'<br>\n",
    "15 'Zavel'<br>\n",
    "16 'Lichte klei'<br>\n",
    "17 'Zware klei'<br>\n",
    "18 'Klei op veen'<br>\n",
    "19 'Klei op zand'<br>\n",
    "20 'Klei op grof zand'<br>\n",
    "21 'Leem'<br>\n",
    "\n",
    "\n",
    "And surface elevation needs to be in m+NAP."
   ]
  },
  {
   "cell_type": "code",
   "execution_count": null,
   "metadata": {},
   "outputs": [],
   "source": [
    "# all data and settings to create the RR-model\n",
    "lu_file = os.path.join(data_path,'rasters/lgn250.tif')\n",
    "ahn_file = os.path.join(data_path,'rasters/ahn_250.tif')\n",
    "soil_file = os.path.join(data_path,'rasters/soiltypes250.tif')"
   ]
  },
  {
   "cell_type": "markdown",
   "metadata": {},
   "source": [
    "Other parameters can be set by rasters (i.e. spatially distributed) or uniform. If a number is provided, the module will use this number for all catchments, if a string is provided it is interpreted as a raster file name. For unpaved nodes, these parameters are the storage on the surface, the infiltration capacity, and the initial ground water depth (in m below the surface). The parametrisation for Ernst is taken from a list of layer depths, where each depth is assigned the corresponding resistance from the list of layer_resistances. They need to be of equal length. The resistance value for flow from open water back to unpaved (infil_resistance) and the resistance for surface runoff (runoff_resistance) can also be determined here, but they are optional: if omitted, default values of 300 d-1 (cvi) and 1 d-1 (cvs) are adopted."
   ]
  },
  {
   "cell_type": "code",
   "execution_count": null,
   "metadata": {},
   "outputs": [],
   "source": [
    "surface_storage = 10.0\n",
    "infiltration_capacity = 100.0\n",
    "initial_gwd = 0.4\n",
    "\n",
    "runoff_resistance = 1.\n",
    "infil_resistance = 300.\n",
    "layer_depths = [0.0, 1.0, 2.0]\n",
    "layer_resistances = [30,200,10000]"
   ]
  },
  {
   "cell_type": "markdown",
   "metadata": {},
   "source": [
    "Fill the unpaved node with the corresponding ernst definition as follows. \n",
    "\n",
    "The argument 'meteo_areas' to 'unpaved_from_input' contains the polygons that correspond to a meteo-station: here these are identical to each catchment so each catchment gets its own station.  If there are many, small, catchments, it might be more appropriate to use, for instance, Thiessen polygons around gauges. For each catchment, the meteo-station is based on the 'meteo-area;-feature in which the centroid of the catchment falls.\n",
    "\n",
    "The argument 'zonalstats_alltouched' is rather important. It defines the number of cells in the input rasters that are taken into account for each catchment. If the raster resolution is sufficiently high, its setting does not matter. In the case of coarse rasters, small catchments might end up with no nodes at all if the 'zonalstats_alltouched' is FALSE - it says that only cells that are entirely within the catchment are taken into account. If it is TRUE, all cells that are touched by the catchment geometry are taken into account - i.e. some pixels might be counted multiple times. Note that to define average fluxes (meteo, seepage, storages) zonalstats_alltouched is TRUE by default. For elevation, land use and soil types it is FALSE by default, if the argument is omitted."
   ]
  },
  {
   "cell_type": "code",
   "execution_count": null,
   "metadata": {},
   "outputs": [],
   "source": [
    "meteo_areas = hydamo.catchments"
   ]
  },
  {
   "cell_type": "code",
   "execution_count": null,
   "metadata": {},
   "outputs": [],
   "source": [
    "drrmodel.unpaved.io.unpaved_from_input(hydamo.catchments, lu_file, ahn_file, soil_file, surface_storage, infiltration_capacity, initial_gwd, meteo_areas, zonalstats_alltouched=True)\n",
    "drrmodel.unpaved.io.ernst_from_input(hydamo.catchments, depths=layer_depths, resistance=layer_resistances,infiltration_resistance=infil_resistance, runoff_resistance=runoff_resistance)\n",
    "# Or alternatively, to use default values of infiltration and runoff resistances:\n",
    "#drrmodel.unpaved.io.ernst_from_input(hydamo.catchments, depths=layer_depths, resistance=layer_resistances)"
   ]
  },
  {
   "cell_type": "code",
   "execution_count": null,
   "metadata": {},
   "outputs": [],
   "source": [
    "hydamo.catchments.iloc[0].geometry.area"
   ]
  },
  {
   "cell_type": "markdown",
   "metadata": {},
   "source": [
    "#### Paved "
   ]
  },
  {
   "cell_type": "markdown",
   "metadata": {},
   "source": [
    "Input for the paved nodes are land use -the area of the paved node is the area of class '14' in the provided land use map- and surface elevation. In addition, the following parameters can all be numbers (spatially uniform) or raster filenames:\n",
    "- storage on the street <br>\n",
    "- storage in the sewer system <br>\n",
    "- capacity of the sewerpumps <br>\n",
    "\n",
    "The meteo-station is assigned in the same way as for unpaved nodes."
   ]
  },
  {
   "cell_type": "code",
   "execution_count": null,
   "metadata": {},
   "outputs": [],
   "source": [
    "street_storage = 10.0\n",
    "sewer_storage =  os.path.join(data_path,'rasters/sewstor.tif')\n",
    "pumpcapacity =  os.path.join(data_path,'rasters/pumpcap.tif')\n"
   ]
  },
  {
   "cell_type": "markdown",
   "metadata": {},
   "source": [
    "To convert to a model definition, according to the more complex schematistion:"
   ]
  },
  {
   "cell_type": "code",
   "execution_count": null,
   "metadata": {},
   "outputs": [],
   "source": [
    "# drrmodel.paved.io.paved_from_input(catchments=hydamo.catchments, \n",
    "#                                     overflows=hydamo.overflows,\n",
    "#                                     sewer_areas=hydamo.sewer_areas,                                   \n",
    "#                                     landuse=lu_file, \n",
    "#                                     surface_level=ahn_file,\n",
    "#                                     street_storage=street_storage,\n",
    "#                                     sewer_storage=sewer_storage,\n",
    "#                                     pump_capacity=pumpcapacity, \n",
    "#                                     meteo_areas=meteo_areas,\n",
    "#                                     zonalstats_alltouched=True)"
   ]
  },
  {
   "cell_type": "raw",
   "metadata": {},
   "source": [
    "Or, according to the simplest approach:"
   ]
  },
  {
   "cell_type": "code",
   "execution_count": null,
   "metadata": {},
   "outputs": [],
   "source": [
    "drrmodel.paved.io.paved_from_input(catchments=hydamo.catchments, \n",
    "                                   landuse=lu_file, \n",
    "                                   surface_level=ahn_file,\n",
    "                                   street_storage=street_storage,\n",
    "                                   sewer_storage=sewer_storage,\n",
    "                                   pump_capacity=pumpcapacity, \n",
    "                                   meteo_areas=meteo_areas)"
   ]
  },
  {
   "cell_type": "markdown",
   "metadata": {},
   "source": [
    "#### Greenhouse nodes"
   ]
  },
  {
   "cell_type": "markdown",
   "metadata": {},
   "source": [
    "Input for the greenhouse nodes are (again) land use -the area of the paved node is the area of class '15' in the provided land use map- and surface elevation. In addition, the following parameter can be a number (spatially uniform) or a raster filename:\n",
    "- storage on the roof <br>\n",
    "\n",
    "The meteo-station is assigned in the same way as for unpaved nodes."
   ]
  },
  {
   "cell_type": "code",
   "execution_count": null,
   "metadata": {},
   "outputs": [],
   "source": [
    "roof_storage = os.path.join(data_path,'rasters/roofstor.tif')"
   ]
  },
  {
   "cell_type": "markdown",
   "metadata": {},
   "source": [
    "To convert to a model definition:"
   ]
  },
  {
   "cell_type": "code",
   "execution_count": null,
   "metadata": {},
   "outputs": [],
   "source": [
    "drrmodel.greenhouse.io.greenhouse_from_input(hydamo.catchments, lu_file, ahn_file, roof_storage, meteo_areas, zonalstats_alltouched=True)"
   ]
  },
  {
   "cell_type": "markdown",
   "metadata": {},
   "source": [
    "#### Open water"
   ]
  },
  {
   "cell_type": "markdown",
   "metadata": {},
   "source": [
    "Input for the open water nodes are only land use -the area of the paved node is the area of class '13' in the provided land use map. \n",
    "\n",
    "The meteo-station is assigned in the same way as for unpaved nodes."
   ]
  },
  {
   "cell_type": "code",
   "execution_count": null,
   "metadata": {},
   "outputs": [],
   "source": [
    "# the GUI does not support open water nodes yet\n",
    "# drrmodel.openwater.io.openwater_from_input(hydamo.catchments, lu_file, meteo_areas, zonalstats_alltouched=True)"
   ]
  },
  {
   "cell_type": "markdown",
   "metadata": {},
   "source": [
    "#### External forcings\n",
    "\n",
    "Three types of external forcing need to be provided:<br>\n",
    "- Seepage/drainage\n",
    "- Precipitation\n",
    "- Evaporation\n",
    "\n",
    "All are assumed to be spatially variable and thus need to pe provided as rasters per time step. Only the locations of the folders containing the rasters need to be provided; the time step is then derived from the file names.\n",
    "\n",
    "Precipitation and evaporation are assumed to be in mm/d. As for evaporation only one meteostation is used, the meteo_areas are dissolved. For seepage, as the use of Metaswap-rasters is allowed, the unit is assumed to m3/grid cell/timestep.\n",
    "\n",
    "Rastertypes can be any type that is recognized by rasterio (in any case Geotiff and ArcASCII rasters). If the file extension is 'IDF', as is the case in Modflow output, the raster is read using the 'imod'-package.\n",
    "\n",
    "IMPORTANT: time steps are extracted from the file names. Therefore, the names should cohere to some conditions:\n",
    "The filename should consist of at least two parts, separated by underscores. The second part needs to contain time information, which should be formatted as YYYYMMDDHHMMSS (SS may be omitted). Or, for daily data YYYYMMDD.\n",
    "\n",
    "For example: 'precip_20200605151500.tif'"
   ]
  },
  {
   "cell_type": "code",
   "execution_count": null,
   "metadata": {},
   "outputs": [],
   "source": [
    "seepage_folder =  os.path.join(data_path,'rasters/kwel')\n",
    "precip_folder =  os.path.join(data_path,'rasters/precip')\n",
    "evap_folder =  os.path.join(data_path,'rasters/evap')"
   ]
  },
  {
   "cell_type": "code",
   "execution_count": null,
   "metadata": {},
   "outputs": [],
   "source": [
    "drrmodel.external_forcings.io.seepage_from_input(hydamo.catchments, seepage_folder)\n",
    "drrmodel.external_forcings.io.precip_from_input(meteo_areas, precip_folder)\n",
    "drrmodel.external_forcings.io.evap_from_input(meteo_areas, evap_folder)"
   ]
  },
  {
   "cell_type": "markdown",
   "metadata": {},
   "source": [
    "We need a function to be able to easily plot all nodes and links"
   ]
  },
  {
   "cell_type": "code",
   "execution_count": null,
   "metadata": {},
   "outputs": [],
   "source": [
    "drrmodel.external_forcings.seepage"
   ]
  },
  {
   "cell_type": "code",
   "execution_count": null,
   "metadata": {},
   "outputs": [],
   "source": [
    "def node_geometry(dict):\n",
    "    # Function to put the node geometries in geodataframes\n",
    "    from shapely.geometry import Point\n",
    "    geoms = []  \n",
    "    links = []\n",
    "    for i in dict.items():\n",
    "        if 'ar' in i[1]:\n",
    "            if np.sum([float(s) for s in i[1]['ar'].split(' ')])>0:\n",
    "                geoms.append(Point((float(i[1]['px']),float(i[1]['py']))))           \n",
    "                links.append(LineString((Point(float(i[1]['px']),float(i[1]['py'])),\n",
    "                                        Point(float(drrmodel.external_forcings.boundary_nodes[i[1]['boundary_node']]['px']),\n",
    "                                              float(drrmodel.external_forcings.boundary_nodes[i[1]['boundary_node']]['py'])))))\n",
    "        else: \n",
    "            geoms.append(Point((float(i[1]['px']),float(i[1]['py']))))           \n",
    "    return((gpd.GeoDataFrame(geoms,columns=['geometry'])),gpd.GeoDataFrame(links,columns=['geometry']))"
   ]
  },
  {
   "cell_type": "markdown",
   "metadata": {},
   "source": [
    "Now all the nodes are filled. The topology is defined as follows: every catchment gets a maximum of four nodes (unpaved, paved, open water and greenhouse). If in the land use map, the appropriate land use does not occur in the catchment, no node is defined. The four nodes are plotted on a horizontal (west-east) line around the catchment centroid in the order of: openwater, unpaved, paved, greenhouse. Every node is connected with the lateral node of the catchnment using a RR-link. The files 3B_NOD.TP and 3B_LINK.TP are created describing this."
   ]
  },
  {
   "cell_type": "code",
   "execution_count": null,
   "metadata": {},
   "outputs": [],
   "source": [
    "## plt.rcParams['axes.edgecolor'] = 'w'\n",
    "import matplotlib.patches as mpatches\n",
    "fig, ax = plt.subplots(figsize=(10, 10))\n",
    "\n",
    "ax.xaxis.set_visible(False)\n",
    "ax.yaxis.set_visible(False)\n",
    "ax.set_xlim(139600, 142400)\n",
    "ax.set_ylim(391700, 395600)\n",
    "\n",
    "achtergrond = plt.imread( os.path.join(data_path,'gis/achtergrond.png'))\n",
    "ax.imshow(achtergrond, extent=(139517.12, 142957.76, 391606.8, 395907.6), interpolation='lanczos')\n",
    "\n",
    "hydamo.catchments.plot(ax=ax,label='Catchments', edgecolor='black', facecolor=\"pink\", alpha=0.5)\n",
    "hydamo.branches.plot(ax=ax, label='Channel')\n",
    "node_geometry(drrmodel.unpaved.unp_nodes)[0].plot(ax=ax,markersize=15,color='green',label='Unpaved')\n",
    "node_geometry(drrmodel.unpaved.unp_nodes)[1].plot(ax=ax, color='black',linewidth=0.5)\n",
    "node_geometry(drrmodel.paved.pav_nodes)[0].plot(ax=ax,markersize=15,color='red',label='Paved')\n",
    "node_geometry(drrmodel.paved.pav_nodes)[1].plot(ax=ax, color='black',linewidth=0.5)\n",
    "node_geometry(drrmodel.greenhouse.gh_nodes)[0].plot(ax=ax,markersize=15,color='yellow',label='Greenhouse')\n",
    "node_geometry(drrmodel.greenhouse.gh_nodes)[1].plot(ax=ax, color='black',linewidth=0.5)\n",
    "node_geometry(drrmodel.openwater.ow_nodes)[0].plot(ax=ax,markersize=15,color='blue',label='Openwater')\n",
    "node_geometry(drrmodel.external_forcings.boundary_nodes)[0].plot(ax=ax, markersize=15, color='purple',label='RR Boundary')\n",
    "node_geometry(drrmodel.openwater.ow_nodes)[1].plot(ax=ax, color='black',linewidth=0.5,label='RR-link')\n",
    "\n",
    "# manually add handles for polygon plot\n",
    "handles, labels = ax.get_legend_handles_labels()\n",
    "poly = mpatches.Patch(facecolor='pink', edgecolor='black',alpha=0.5)\n",
    "ax.legend(handles=handles.append(poly),labels=labels.append('Catchments'))\n",
    "fig.tight_layout()"
   ]
  },
  {
   "cell_type": "markdown",
   "metadata": {},
   "source": [
    "### Settings and writing\n",
    "\n",
    "Finally, we adjust some settings and export the coupled FM-RR model. For more info on the settings: https://content.oss.deltares.nl/delft3d/manuals/D-Flow_FM_User_Manual.pdf\n",
    "\n",
    "The 1D/2D model (FM) is written to the sub-folder 'fm'; RR-files are written to 'rr'. An XML-file (dimr-config.xml) describes the coupling between the two. Note that both the GUI and Interaktor do not (yet) support RR, so the only way to carry out a coupled simulation is using DIMR.\n"
   ]
  },
  {
   "cell_type": "code",
   "execution_count": null,
   "metadata": {},
   "outputs": [],
   "source": [
    "# Runtime and output settings. Run the first six days of 2000, using a 1 hour timestep for RR.\n",
    "# for FM model\n",
    "dfmmodel.mdu_parameters['refdate'] = 20000101\n",
    "dfmmodel.mdu_parameters['tstart'] = 0.0 * 3600\n",
    "dfmmodel.mdu_parameters['tstop'] = 144.0 * 1 * 3600\n",
    "dfmmodel.mdu_parameters['hisinterval'] = '120. 0. 0.'\n",
    "dfmmodel.mdu_parameters['cflmax'] = 0.7\n",
    "\n",
    "# for RR model\n",
    "drrmodel.d3b_parameters['Timestepsize'] = 300\n",
    "drrmodel.d3b_parameters['StartTime'] = \"'2000/01/01;00:00:00'\" # should be equal to refdate for D-HYDRO\n",
    "drrmodel.d3b_parameters['EndTime'] = \"'2000/01/07;00:00:00'\"\n",
    "drrmodel.d3b_parameters['RestartIn'] = 0\n",
    "drrmodel.d3b_parameters['RestartOut'] = 0\n",
    "drrmodel.d3b_parameters['RestartFileNamePrefix'] ='Test'\n",
    "drrmodel.d3b_parameters['UnsaturatedZone'] = 1\n",
    "drrmodel.d3b_parameters['UnpavedPercolationLikeSobek213']=-1\n",
    "drrmodel.d3b_parameters['VolumeCheckFactorToCF']=100000\n",
    "drrmodel.dimr_path = dimr_path\n",
    "\n",
    "# Create writer\n",
    "fm_writer = DFlowFMWriter(dfmmodel, output_dir= os.path.join(output_path,'MGB_RRFM'), name='moergestels_broek')\n",
    "rr_writer = DFlowRRWriter(drrmodel, output_dir= os.path.join(output_path,'MGB_RRFM'), name='moergestels_broek')\n",
    "\n",
    "# Write as model\n",
    "# The ldb is just for visualising in the interaktor - there is no RR component there.\n",
    "fm_writer.objects_to_ldb()\n",
    "fm_writer.write_all()\n",
    "rr_writer.write_all()"
   ]
  },
  {
   "cell_type": "code",
   "execution_count": null,
   "metadata": {},
   "outputs": [],
   "source": [
    "import shutil\n",
    "shutil.make_archive(os.path.join(output_path,'MGB_RRFM'),'zip',os.path.join(output_path,'MGB_RRFM'))"
   ]
  },
  {
   "cell_type": "markdown",
   "metadata": {},
   "source": [
    "Finished! Start the coupled model by clicking run.bat in the output model."
   ]
  },
  {
   "cell_type": "code",
   "execution_count": null,
   "metadata": {},
   "outputs": [],
   "source": []
  }
 ],
 "metadata": {
  "kernelspec": {
   "display_name": "delft3dfmpy",
   "language": "python",
   "name": "delft3dfmpy"
  },
  "language_info": {
   "codemirror_mode": {
    "name": "ipython",
    "version": 3
   },
   "file_extension": ".py",
   "mimetype": "text/x-python",
   "name": "python",
   "nbconvert_exporter": "python",
   "pygments_lexer": "ipython3",
   "version": "3.7.10"
  }
 },
 "nbformat": 4,
 "nbformat_minor": 4
}
